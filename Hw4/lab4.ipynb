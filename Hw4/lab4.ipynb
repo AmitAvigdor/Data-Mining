{
 "cells": [
  {
   "cell_type": "markdown",
   "id": "16ff1eb4-8a66-44c1-9fec-fd9f07e88854",
   "metadata": {
    "id": "16ff1eb4-8a66-44c1-9fec-fd9f07e88854"
   },
   "source": [
    "Barak Bonker 316177708<br>\n",
    "Amit Avigdor 316178144"
   ]
  },
  {
   "cell_type": "markdown",
   "id": "e77474d0-2c56-43e0-80c5-760eea2f7d99",
   "metadata": {
    "id": "e77474d0-2c56-43e0-80c5-760eea2f7d99"
   },
   "source": [
    "# lab 4"
   ]
  },
  {
   "cell_type": "markdown",
   "id": "7a16b3f8-b788-45f4-9242-92c8c05fecf8",
   "metadata": {
    "id": "7a16b3f8-b788-45f4-9242-92c8c05fecf8"
   },
   "source": [
    "### :אנטרופיה\n",
    "מדד מספרי המציין כמה מגוון יש במידע הנתון שלנו. מחושב ע\"י חיבור ההסתברויות של כל אחד מהנתונים הקיימים כפול לוג 2 של אותה ההסתברות. ככל שמגוון הנתונים האפשריים גדול יותר כך תוצאת חישוב האינטראפיה גדול יותר\n",
    "בסופו של דבר הוא אומר כמה לא ניתן לשער (לצפות) מה יהיה הערך במבנה הנתונים שלנו. ככל שקיימים יותר אופציות, תוצאת החישוב גדולה יותר וכך יותר קשה לשער איזה ערך נקבל \n",
    "<br><br>\n",
    "### :אנטרופיה מותנית\n",
    "אנטרופיה מותנית קובעת את כמות המידע הדרושה לתיאור התוצאה של משתנה אקראי אחד כאשר הערך של משתנה אקראי אחר ידוע.\n",
    "<br><br>\n",
    "### :אנטרופיה הדדית\n",
    "ירידת חוסר הוודאות של ערך מסויים כתוצאה של חוסר וודאות ידועה של ערך אחר באוסף המידע שלנו\n",
    "<br><br>\n",
    "### :הגבר מידע\n",
    "הגבר מידע הוא חיסור האנטרופיה על ידי שינוי מערך הנתונים והוא משמש בעיקר לאימון עצי החלטה. הגבר מידע מחושב על ידי השוואת האנטרופיה של מערך הנתונים לפני ואחרי הטרנספורמציה.\n",
    "<br><br>\n",
    "### :ג'יני אינדקס\n",
    "מחשב את חוסר השוויון של ערכים של משתנה/עמודה מסויימת. בעצם סוג של פיזור ערכים\n",
    "<br><br>\n",
    "\n",
    "\n",
    "\n",
    "\n",
    "\n"
   ]
  },
  {
   "cell_type": "markdown",
   "id": "4fa26531-22bb-4832-837f-8fd43240fe0a",
   "metadata": {
    "id": "4fa26531-22bb-4832-837f-8fd43240fe0a"
   },
   "source": [
    "### 1)"
   ]
  },
  {
   "cell_type": "code",
   "execution_count": 67,
   "id": "4170d003-c9d7-47a1-86d1-637743c99538",
   "metadata": {
    "colab": {
     "base_uri": "https://localhost:8080/"
    },
    "id": "4170d003-c9d7-47a1-86d1-637743c99538",
    "outputId": "4cc62656-30fa-430e-8091-46d4e168af59"
   },
   "outputs": [
    {
     "data": {
      "text/plain": [
       "1.577"
      ]
     },
     "execution_count": 67,
     "metadata": {},
     "output_type": "execute_result"
    }
   ],
   "source": [
    "import pandas as pd\n",
    "import numpy as np\n",
    "from math import log2\n",
    "file = pd.read_csv('bayes.csv')\n",
    "\n",
    "def calcEntropy(dataSet):\n",
    "    entropy = 0\n",
    "    counts = dataSet.value_counts()\n",
    "    for data in dataSet.unique():\n",
    "        entropy -= ((counts[data]/len(dataSet)) * log2 (counts[data]/len(dataSet)))\n",
    "    return float(('%.3f' % entropy))\n",
    "    \n",
    "calcEntropy(file['ge '])\n"
   ]
  },
  {
   "cell_type": "markdown",
   "id": "cbdbd1ae-e4ca-40ca-99bb-0139490cb651",
   "metadata": {
    "id": "cbdbd1ae-e4ca-40ca-99bb-0139490cb651"
   },
   "source": [
    "<br><br>\n",
    "### 2) 1."
   ]
  },
  {
   "cell_type": "code",
   "execution_count": 68,
   "id": "ff25b99b-60d6-485a-a2c6-9fe1ddbd2b39",
   "metadata": {
    "colab": {
     "base_uri": "https://localhost:8080/"
    },
    "id": "ff25b99b-60d6-485a-a2c6-9fe1ddbd2b39",
    "outputId": "aff83f85-a3cf-46fe-b9e1-2a0ec4515a33"
   },
   "outputs": [
    {
     "data": {
      "text/plain": [
       "1.331"
      ]
     },
     "execution_count": 68,
     "metadata": {},
     "output_type": "execute_result"
    }
   ],
   "source": [
    "def calcConditionalEntropy(dataSet, classify):\n",
    "    entropy = 0\n",
    "    joint = dataSet.astype(str) + classify.astype(str)\n",
    "    return calcEntropy(joint) - calcEntropy(classify)\n",
    "          \n",
    "calcConditionalEntropy(file['ge '], file['buys_computer'])"
   ]
  },
  {
   "cell_type": "markdown",
   "id": "6720c2f8-48b8-4bbc-95c2-1edcc0f49b1f",
   "metadata": {
    "id": "6720c2f8-48b8-4bbc-95c2-1edcc0f49b1f"
   },
   "source": [
    "<br><br>\n",
    "### 2."
   ]
  },
  {
   "cell_type": "code",
   "execution_count": 69,
   "id": "323619fc-b5d9-41e0-aabc-1bf70fbf0468",
   "metadata": {
    "colab": {
     "base_uri": "https://localhost:8080/"
    },
    "id": "323619fc-b5d9-41e0-aabc-1bf70fbf0468",
    "outputId": "d3a1be36-c818-439b-de8f-e51cc8540ba1"
   },
   "outputs": [
    {
     "data": {
      "text/plain": [
       "0.246"
      ]
     },
     "execution_count": 69,
     "metadata": {},
     "output_type": "execute_result"
    }
   ],
   "source": [
    "def mutual_information(dataSet, classify):\n",
    "    return calcEntropy(dataSet) - calcConditionalEntropy(dataSet, classify)\n",
    "\n",
    "mutual_information(file['ge '], file['buys_computer'])"
   ]
  },
  {
   "cell_type": "markdown",
   "id": "d5c07abc-c225-4723-9177-1b5c0e941866",
   "metadata": {
    "id": "d5c07abc-c225-4723-9177-1b5c0e941866"
   },
   "source": [
    "<br><br>\n",
    "### 3."
   ]
  },
  {
   "cell_type": "code",
   "execution_count": 70,
   "id": "9e4eaf9e-d2e9-4bfa-a5a2-b9c73be0cc6c",
   "metadata": {
    "colab": {
     "base_uri": "https://localhost:8080/"
    },
    "id": "9e4eaf9e-d2e9-4bfa-a5a2-b9c73be0cc6c",
    "outputId": "7f3c6b13-51b4-4192-a5b7-2c1096afd980"
   },
   "outputs": [
    {
     "data": {
      "text/plain": [
       "0.246"
      ]
     },
     "execution_count": 70,
     "metadata": {},
     "output_type": "execute_result"
    }
   ],
   "source": [
    "def information_gain(dataSet, classify):\n",
    "    return calcEntropy(dataSet) - calcConditionalEntropy(dataSet, classify)\n",
    "\n",
    "information_gain(file['ge '], file['buys_computer'])\n"
   ]
  },
  {
   "cell_type": "markdown",
   "id": "sKz6ENbnQ3Sj",
   "metadata": {
    "id": "sKz6ENbnQ3Sj"
   },
   "source": [
    "ניתן לשים לב כי הפומקציה לחישוב אנטרופיה הדדית זהה לפונקציה לחישוב הגבר מידע."
   ]
  },
  {
   "cell_type": "markdown",
   "id": "892b13bc-abf6-46a9-83a7-87e9f3debd83",
   "metadata": {
    "id": "892b13bc-abf6-46a9-83a7-87e9f3debd83"
   },
   "source": [
    "<br><br>\n",
    "### 3) 1."
   ]
  },
  {
   "cell_type": "markdown",
   "id": "9cc1a32f-def1-4008-bf59-9852fa38bbce",
   "metadata": {
    "id": "9cc1a32f-def1-4008-bf59-9852fa38bbce"
   },
   "source": [
    "needs to be installed:\n",
    "<br>\n",
    "<code>pip install pyitlib <code>"
   ]
  },
  {
   "cell_type": "code",
   "execution_count": 31,
   "id": "O4gODvzNtHNj",
   "metadata": {
    "colab": {
     "base_uri": "https://localhost:8080/"
    },
    "id": "O4gODvzNtHNj",
    "outputId": "897ec57f-f5f9-4423-b6af-7509029bb211"
   },
   "outputs": [
    {
     "name": "stdout",
     "output_type": "stream",
     "text": [
      "Collecting pyitlib\n",
      "  Downloading pyitlib-0.2.2.tar.gz (27 kB)\n",
      "Requirement already satisfied: pandas>=0.20.2numpy>=1.9.2 in /usr/local/lib/python3.7/dist-packages (from pyitlib) (1.3.5)\n",
      "Requirement already satisfied: scikit-learn>=0.16.0 in /usr/local/lib/python3.7/dist-packages (from pyitlib) (1.0.2)\n",
      "Requirement already satisfied: scipy>=1.0.1 in /usr/local/lib/python3.7/dist-packages (from pyitlib) (1.4.1)\n",
      "Requirement already satisfied: future>=0.16.0 in /usr/local/lib/python3.7/dist-packages (from pyitlib) (0.16.0)\n",
      "Requirement already satisfied: pytz>=2017.3 in /usr/local/lib/python3.7/dist-packages (from pandas>=0.20.2numpy>=1.9.2->pyitlib) (2022.1)\n",
      "Requirement already satisfied: numpy>=1.17.3 in /usr/local/lib/python3.7/dist-packages (from pandas>=0.20.2numpy>=1.9.2->pyitlib) (1.21.6)\n",
      "Requirement already satisfied: python-dateutil>=2.7.3 in /usr/local/lib/python3.7/dist-packages (from pandas>=0.20.2numpy>=1.9.2->pyitlib) (2.8.2)\n",
      "Requirement already satisfied: six>=1.5 in /usr/local/lib/python3.7/dist-packages (from python-dateutil>=2.7.3->pandas>=0.20.2numpy>=1.9.2->pyitlib) (1.15.0)\n",
      "Requirement already satisfied: joblib>=0.11 in /usr/local/lib/python3.7/dist-packages (from scikit-learn>=0.16.0->pyitlib) (1.1.0)\n",
      "Requirement already satisfied: threadpoolctl>=2.0.0 in /usr/local/lib/python3.7/dist-packages (from scikit-learn>=0.16.0->pyitlib) (3.1.0)\n",
      "Building wheels for collected packages: pyitlib\n",
      "  Building wheel for pyitlib (setup.py) ... \u001b[?25l\u001b[?25hdone\n",
      "  Created wheel for pyitlib: filename=pyitlib-0.2.2-py3-none-any.whl size=28500 sha256=14fd11377def0d7f9312be06a2e41164c520ebecde97bc1b89e637081400b975\n",
      "  Stored in directory: /root/.cache/pip/wheels/14/96/d6/86e32d66e5bb0440dc344e75849266b2bf2939520672e33e4e\n",
      "Successfully built pyitlib\n",
      "Installing collected packages: pyitlib\n",
      "Successfully installed pyitlib-0.2.2\n"
     ]
    }
   ],
   "source": [
    "pip install pyitlib"
   ]
  },
  {
   "cell_type": "code",
   "execution_count": 32,
   "id": "e25969dc-3552-4b60-888c-e237a6a17f5b",
   "metadata": {
    "colab": {
     "base_uri": "https://localhost:8080/"
    },
    "id": "e25969dc-3552-4b60-888c-e237a6a17f5b",
    "outputId": "a9223824-edbd-4ba3-cb39-8eba43763585"
   },
   "outputs": [
    {
     "data": {
      "text/plain": [
       "array(1.57740628)"
      ]
     },
     "execution_count": 32,
     "metadata": {},
     "output_type": "execute_result"
    }
   ],
   "source": [
    "from pyitlib import discrete_random_variable as drv\n",
    "drv.entropy(file['ge '])"
   ]
  },
  {
   "cell_type": "markdown",
   "id": "f898a6b7-7c14-4c1b-a0d0-6430f2d275aa",
   "metadata": {
    "id": "f898a6b7-7c14-4c1b-a0d0-6430f2d275aa"
   },
   "source": [
    "<br><br>\n",
    "### 2."
   ]
  },
  {
   "cell_type": "code",
   "execution_count": 34,
   "id": "e28cfa5e-dff8-47c7-a893-6edd704bb67a",
   "metadata": {
    "colab": {
     "base_uri": "https://localhost:8080/"
    },
    "id": "e28cfa5e-dff8-47c7-a893-6edd704bb67a",
    "outputId": "3487672e-67f8-45bf-cc86-3c3f2be86257"
   },
   "outputs": [
    {
     "data": {
      "text/plain": [
       "array(1.33065646)"
      ]
     },
     "execution_count": 34,
     "metadata": {},
     "output_type": "execute_result"
    }
   ],
   "source": [
    "drv.entropy_conditional(file['ge '], file['buys_computer'])"
   ]
  },
  {
   "cell_type": "markdown",
   "id": "0e591966-3c4a-416a-b880-e854832c27b9",
   "metadata": {
    "id": "0e591966-3c4a-416a-b880-e854832c27b9"
   },
   "source": [
    "<br><br> \n",
    "<!-- matual -->\n",
    "### 3."
   ]
  },
  {
   "cell_type": "code",
   "execution_count": 36,
   "id": "aedc4adc-4438-4e31-aed4-0e4ccca934e0",
   "metadata": {
    "colab": {
     "base_uri": "https://localhost:8080/"
    },
    "id": "aedc4adc-4438-4e31-aed4-0e4ccca934e0",
    "outputId": "797ea126-5462-4e4c-e2bd-10e75720b56f"
   },
   "outputs": [
    {
     "data": {
      "text/plain": [
       "0.2467498197744391"
      ]
     },
     "execution_count": 36,
     "metadata": {},
     "output_type": "execute_result"
    }
   ],
   "source": [
    "drv.information_mutual(file['ge '], file['buys_computer'])"
   ]
  },
  {
   "cell_type": "markdown",
   "id": "9bf39537-d15e-4d49-8473-66c307389e63",
   "metadata": {
    "id": "9bf39537-d15e-4d49-8473-66c307389e63"
   },
   "source": [
    "<br><br>\n",
    "\n",
    "### 4. בגלל שהפונקציות הגבר מידע ואנטרופיה הדדית זהות אין שתי ספריות שונות לחישובן (השוני ביניהן הוא בהקשר)\n",
    "sklearn חיפשנו את הספרייה בדקומנטציה של "
   ]
  },
  {
   "cell_type": "markdown",
   "id": "a38b8461-7114-4a47-92a7-94b75e884416",
   "metadata": {
    "id": "a38b8461-7114-4a47-92a7-94b75e884416"
   },
   "source": [
    "<br><br>\n",
    "### 4)"
   ]
  },
  {
   "cell_type": "code",
   "execution_count": 51,
   "id": "9teM0KCtKSZU",
   "metadata": {
    "colab": {
     "base_uri": "https://localhost:8080/"
    },
    "id": "9teM0KCtKSZU",
    "outputId": "b099d55f-31be-485d-d2ba-8acf6e6bd18c"
   },
   "outputs": [
    {
     "name": "stdout",
     "output_type": "stream",
     "text": [
      "Collecting pygini\n",
      "  Downloading pygini-1.0.1-py3-none-any.whl (14 kB)\n",
      "Requirement already satisfied: numpy>=1.17.4 in /usr/local/lib/python3.7/dist-packages (from pygini) (1.21.6)\n",
      "Installing collected packages: pygini\n",
      "Successfully installed pygini-1.0.1\n"
     ]
    }
   ],
   "source": [
    "pip install pygini"
   ]
  },
  {
   "cell_type": "code",
   "execution_count": 65,
   "id": "a63e4a1d-4122-4f57-a8e9-ec49393b1447",
   "metadata": {
    "colab": {
     "base_uri": "https://localhost:8080/"
    },
    "id": "a63e4a1d-4122-4f57-a8e9-ec49393b1447",
    "outputId": "5d404140-55bb-41ff-e8ff-dd63f286de77"
   },
   "outputs": [
    {
     "data": {
      "text/plain": [
       "array(0.04761905)"
      ]
     },
     "execution_count": 65,
     "metadata": {},
     "output_type": "execute_result"
    }
   ],
   "source": [
    "import pygini as pg\n",
    "unique, count = np.unique(file['ge '], return_counts=True)\n",
    "pg.gini(np.array(count, dtype=float), axis=0)"
   ]
  }
 ],
 "metadata": {
  "colab": {
   "collapsed_sections": [],
   "name": "lab4.ipynb",
   "provenance": []
  },
  "kernelspec": {
   "display_name": "Python 3 (ipykernel)",
   "language": "python",
   "name": "python3"
  },
  "language_info": {
   "codemirror_mode": {
    "name": "ipython",
    "version": 3
   },
   "file_extension": ".py",
   "mimetype": "text/x-python",
   "name": "python",
   "nbconvert_exporter": "python",
   "pygments_lexer": "ipython3",
   "version": "3.8.12"
  }
 },
 "nbformat": 4,
 "nbformat_minor": 5
}
